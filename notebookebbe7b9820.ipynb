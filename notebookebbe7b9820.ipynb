{
  "metadata": {
    "kernelspec": {
      "language": "python",
      "display_name": "Python 3",
      "name": "python3"
    },
    "language_info": {
      "name": "python",
      "version": "3.11.11",
      "mimetype": "text/x-python",
      "codemirror_mode": {
        "name": "ipython",
        "version": 3
      },
      "pygments_lexer": "ipython3",
      "nbconvert_exporter": "python",
      "file_extension": ".py"
    },
    "kaggle": {
      "accelerator": "none",
      "dataSources": [
        {
          "sourceId": 3139,
          "sourceType": "datasetVersion",
          "datasetId": 1815
        }
      ],
      "dockerImageVersionId": 31040,
      "isInternetEnabled": true,
      "language": "python",
      "sourceType": "notebook",
      "isGpuEnabled": false
    },
    "colab": {
      "name": "notebookebbe7b9820",
      "provenance": [],
      "include_colab_link": true
    }
  },
  "nbformat_minor": 0,
  "nbformat": 4,
  "cells": [
    {
      "cell_type": "markdown",
      "metadata": {
        "id": "view-in-github",
        "colab_type": "text"
      },
      "source": [
        "<a href=\"https://colab.research.google.com/github/bibikashrt/ML_Lab/blob/main/notebookebbe7b9820.ipynb\" target=\"_parent\"><img src=\"https://colab.research.google.com/assets/colab-badge.svg\" alt=\"Open In Colab\"/></a>"
      ]
    },
    {
      "source": [
        "# IMPORTANT: RUN THIS CELL IN ORDER TO IMPORT YOUR KAGGLE DATA SOURCES,\n",
        "# THEN FEEL FREE TO DELETE THIS CELL.\n",
        "# NOTE: THIS NOTEBOOK ENVIRONMENT DIFFERS FROM KAGGLE'S PYTHON\n",
        "# ENVIRONMENT SO THERE MAY BE MISSING LIBRARIES USED BY YOUR\n",
        "# NOTEBOOK.\n",
        "import kagglehub\n",
        "vikrishnan_boston_house_prices_path = kagglehub.dataset_download('vikrishnan/boston-house-prices')\n",
        "\n",
        "print('Data source import complete.')\n"
      ],
      "metadata": {
        "id": "YxlMLPUdUK0V"
      },
      "cell_type": "code",
      "outputs": [],
      "execution_count": null
    },
    {
      "cell_type": "code",
      "source": [
        "import pandas as pd\n",
        "import numpy as np\n",
        "import matplotlib.pyplot as plt\n",
        "import seaborn as sns\n",
        "\n",
        "from sklearn.model_selection import train_test_split\n",
        "from sklearn.linear_model import LinearRegression, Ridge, Lasso\n",
        "from sklearn.metrics import mean_squared_error, r2_score,mean_absolute_error\n"
      ],
      "metadata": {
        "_uuid": "8f2839f25d086af736a60e9eeb907d3b93b6e0e5",
        "_cell_guid": "b1076dfc-b9ad-4769-8c92-a6c4dae69d19",
        "trusted": true,
        "execution": {
          "iopub.status.busy": "2025-06-01T13:52:13.199528Z",
          "iopub.execute_input": "2025-06-01T13:52:13.200877Z",
          "iopub.status.idle": "2025-06-01T13:52:13.206729Z",
          "shell.execute_reply.started": "2025-06-01T13:52:13.200833Z",
          "shell.execute_reply": "2025-06-01T13:52:13.20551Z"
        },
        "id": "j6VpL5QgUK0Z"
      },
      "outputs": [],
      "execution_count": null
    },
    {
      "cell_type": "code",
      "source": [
        "# Reload the CSV using whitespace as the delimiter and no header\n",
        "df = pd.read_csv(\"/kaggle/input/boston-house-prices/housing.csv\", delim_whitespace=True, header=None)\n",
        "\n",
        "# Now assign the 14 column names\n",
        "columns = [\"CRIM\", \"ZN\", \"INDUS\", \"CHAS\", \"NOX\", \"RM\", \"AGE\",\n",
        "           \"DIS\", \"RAD\", \"TAX\", \"PTRATIO\", \"B\", \"LSTAT\", \"MEDV\"]\n",
        "df.columns = columns\n",
        "\n",
        "# Check the first few rows\n",
        "print(df.head())\n"
      ],
      "metadata": {
        "trusted": true,
        "execution": {
          "iopub.status.busy": "2025-06-01T13:50:42.65411Z",
          "iopub.execute_input": "2025-06-01T13:50:42.65486Z",
          "iopub.status.idle": "2025-06-01T13:50:42.727553Z",
          "shell.execute_reply.started": "2025-06-01T13:50:42.654818Z",
          "shell.execute_reply": "2025-06-01T13:50:42.726061Z"
        },
        "id": "PnsF3cmFUK0Z"
      },
      "outputs": [],
      "execution_count": null
    },
    {
      "cell_type": "code",
      "source": [
        "df.isnull().sum()"
      ],
      "metadata": {
        "trusted": true,
        "execution": {
          "iopub.status.busy": "2025-06-01T13:50:47.64396Z",
          "iopub.execute_input": "2025-06-01T13:50:47.644764Z",
          "iopub.status.idle": "2025-06-01T13:50:47.654896Z",
          "shell.execute_reply.started": "2025-06-01T13:50:47.644729Z",
          "shell.execute_reply": "2025-06-01T13:50:47.653679Z"
        },
        "id": "C5tOXFOyUK0a"
      },
      "outputs": [],
      "execution_count": null
    },
    {
      "cell_type": "code",
      "source": [
        "print(df.head())\n",
        "print(df.info())\n",
        "print(df.describe())"
      ],
      "metadata": {
        "trusted": true,
        "execution": {
          "iopub.status.busy": "2025-06-01T13:50:51.963506Z",
          "iopub.execute_input": "2025-06-01T13:50:51.96491Z",
          "iopub.status.idle": "2025-06-01T13:50:52.04212Z",
          "shell.execute_reply.started": "2025-06-01T13:50:51.964863Z",
          "shell.execute_reply": "2025-06-01T13:50:52.040824Z"
        },
        "id": "HfHVN4-SUK0a"
      },
      "outputs": [],
      "execution_count": null
    },
    {
      "cell_type": "code",
      "source": [
        "# Define features (X) and target (y)\n",
        "X = df.drop('MEDV', axis=1)\n",
        "y = df['MEDV']\n"
      ],
      "metadata": {
        "trusted": true,
        "execution": {
          "iopub.status.busy": "2025-06-01T13:50:55.682234Z",
          "iopub.execute_input": "2025-06-01T13:50:55.682674Z",
          "iopub.status.idle": "2025-06-01T13:50:55.693191Z",
          "shell.execute_reply.started": "2025-06-01T13:50:55.68262Z",
          "shell.execute_reply": "2025-06-01T13:50:55.691217Z"
        },
        "id": "xzs-_GCZUK0a"
      },
      "outputs": [],
      "execution_count": null
    },
    {
      "cell_type": "code",
      "source": [
        "X_train, X_test, y_train, y_test = train_test_split(X, y, test_size=0.2, random_state=42)"
      ],
      "metadata": {
        "trusted": true,
        "execution": {
          "iopub.status.busy": "2025-06-01T13:50:59.073765Z",
          "iopub.execute_input": "2025-06-01T13:50:59.074143Z",
          "iopub.status.idle": "2025-06-01T13:50:59.086374Z",
          "shell.execute_reply.started": "2025-06-01T13:50:59.07412Z",
          "shell.execute_reply": "2025-06-01T13:50:59.085019Z"
        },
        "id": "TRnCqUZLUK0a"
      },
      "outputs": [],
      "execution_count": null
    },
    {
      "cell_type": "code",
      "source": [
        "models = {\n",
        "\"Linear Regression\": LinearRegression(),\n",
        "\"Ridge (alpha=1.0)\": Ridge(alpha=1.0),\n",
        "\"Lasso (alpha=0.1)\": Lasso(alpha=0.1)\n",
        "}"
      ],
      "metadata": {
        "trusted": true,
        "execution": {
          "iopub.status.busy": "2025-06-01T13:52:29.252071Z",
          "iopub.execute_input": "2025-06-01T13:52:29.252489Z",
          "iopub.status.idle": "2025-06-01T13:52:29.260077Z",
          "shell.execute_reply.started": "2025-06-01T13:52:29.252462Z",
          "shell.execute_reply": "2025-06-01T13:52:29.258192Z"
        },
        "id": "dDP2f54iUK0b"
      },
      "outputs": [],
      "execution_count": null
    },
    {
      "cell_type": "code",
      "source": [
        "results = {\n",
        "    \"Model\": [],\n",
        "    \"R²\": [],\n",
        "    \"MSE\": [],\n",
        "    \"RMSE\": [],\n",
        "    \"MAE\": []\n",
        "}\n"
      ],
      "metadata": {
        "trusted": true,
        "execution": {
          "iopub.status.busy": "2025-06-01T13:53:45.559436Z",
          "iopub.execute_input": "2025-06-01T13:53:45.559883Z",
          "iopub.status.idle": "2025-06-01T13:53:45.566138Z",
          "shell.execute_reply.started": "2025-06-01T13:53:45.559851Z",
          "shell.execute_reply": "2025-06-01T13:53:45.564614Z"
        },
        "id": "m5KoTj07UK0b"
      },
      "outputs": [],
      "execution_count": null
    },
    {
      "cell_type": "code",
      "source": [
        "for name, model in models.items():\n",
        "    model.fit(X_train, y_train)\n",
        "    y_pred = model.predict(X_test)\n",
        "\n",
        "    r2 = r2_score(y_test, y_pred)\n",
        "    mse = mean_squared_error(y_test, y_pred)\n",
        "    rmse = np.sqrt(mse)\n",
        "    mae = mean_absolute_error(y_test, y_pred)\n",
        "\n",
        "    print(f\"\\n {name}\")\n",
        "    print(f\"R² Score: {r2:.4f}\")\n",
        "    print(f\"MSE: {mse:.4f}\")\n",
        "    print(f\"RMSE: {rmse:.4f}\")\n",
        "    print(f\"MAE: {mae:.4f}\")\n",
        "\n",
        "    results[\"Model\"].append(name)\n",
        "    results[\"R²\"].append(r2)\n",
        "    results[\"MSE\"].append(mse)\n",
        "    results[\"RMSE\"].append(rmse)\n",
        "    results[\"MAE\"].append(mae)\n",
        "\n",
        "\n",
        "    plt.figure(figsize=(6, 6))\n",
        "    plt.scatter(y_test, y_pred, alpha=0.7, edgecolors='k')\n",
        "    y_test_np = np.array(y_test)\n",
        "    plt.plot([y_test_np.min(), y_test_np.max()], [y_test_np.min(), y_test_np.max()], 'r--', lw=2)\n",
        "    plt.xlabel(\"Actual Prices\")\n",
        "    plt.ylabel(\"Predicted Prices\")\n",
        "    plt.title(f\"Actual vs Predicted Prices: {name}\")\n",
        "    plt.grid(True)\n",
        "    plt.show()"
      ],
      "metadata": {
        "trusted": true,
        "execution": {
          "iopub.status.busy": "2025-06-01T14:13:43.55107Z",
          "iopub.execute_input": "2025-06-01T14:13:43.551428Z",
          "iopub.status.idle": "2025-06-01T14:13:44.25306Z",
          "shell.execute_reply.started": "2025-06-01T14:13:43.551404Z",
          "shell.execute_reply": "2025-06-01T14:13:44.250999Z"
        },
        "id": "XnjQJ8eKUK0b"
      },
      "outputs": [],
      "execution_count": null
    },
    {
      "cell_type": "code",
      "source": [
        "results_df = pd.DataFrame(results)\n"
      ],
      "metadata": {
        "trusted": true,
        "execution": {
          "iopub.status.busy": "2025-06-01T14:01:14.468447Z",
          "iopub.execute_input": "2025-06-01T14:01:14.468882Z",
          "iopub.status.idle": "2025-06-01T14:01:14.476277Z",
          "shell.execute_reply.started": "2025-06-01T14:01:14.468845Z",
          "shell.execute_reply": "2025-06-01T14:01:14.474953Z"
        },
        "id": "DVRGWwIGUK0c"
      },
      "outputs": [],
      "execution_count": null
    },
    {
      "cell_type": "code",
      "source": [
        "metrics = [\"R²\", \"MSE\", \"RMSE\", \"MAE\"]\n",
        "fig, axes = plt.subplots(2, 2, figsize=(12, 8))\n",
        "axes = axes.flatten()\n",
        "\n",
        "for idx, metric in enumerate(metrics):\n",
        "    axes[idx].bar(results_df[\"Model\"], results_df[metric], color=[\"skyblue\", \"red\", \"lightgreen\"])\n",
        "    axes[idx].set_title(metric)\n",
        "    axes[idx].set_ylabel(metric)\n",
        "    axes[idx].set_xticklabels(results_df[\"Model\"], rotation=15)\n",
        "plt.tight_layout()\n",
        "plt.suptitle(\" Model Performance Comparison\", fontsize=16, y=1.03)\n",
        "plt.show()"
      ],
      "metadata": {
        "trusted": true,
        "execution": {
          "iopub.status.busy": "2025-06-01T14:04:10.275067Z",
          "iopub.execute_input": "2025-06-01T14:04:10.27547Z",
          "iopub.status.idle": "2025-06-01T14:04:11.063639Z",
          "shell.execute_reply.started": "2025-06-01T14:04:10.275443Z",
          "shell.execute_reply": "2025-06-01T14:04:11.062115Z"
        },
        "id": "nQaAAvWnUK0c"
      },
      "outputs": [],
      "execution_count": null
    }
  ]
}